{
 "cells": [
  {
   "cell_type": "code",
   "execution_count": 5,
   "metadata": {},
   "outputs": [
    {
     "name": "stdout",
     "output_type": "stream",
     "text": [
      "Collecting import-ipynb\n",
      "  Using cached import_ipynb-0.1.4-py3-none-any.whl (4.1 kB)\n",
      "Requirement already satisfied: IPython in /Users/sb/miniforge3/envs/tensorflow/lib/python3.10/site-packages (from import-ipynb) (8.11.0)\n",
      "Requirement already satisfied: nbformat in /Users/sb/miniforge3/envs/tensorflow/lib/python3.10/site-packages (from import-ipynb) (5.7.3)\n",
      "Requirement already satisfied: prompt-toolkit!=3.0.37,<3.1.0,>=3.0.30 in /Users/sb/miniforge3/envs/tensorflow/lib/python3.10/site-packages (from IPython->import-ipynb) (3.0.38)\n",
      "Requirement already satisfied: decorator in /Users/sb/miniforge3/envs/tensorflow/lib/python3.10/site-packages (from IPython->import-ipynb) (5.1.1)\n",
      "Requirement already satisfied: matplotlib-inline in /Users/sb/miniforge3/envs/tensorflow/lib/python3.10/site-packages (from IPython->import-ipynb) (0.1.6)\n",
      "Requirement already satisfied: appnope in /Users/sb/miniforge3/envs/tensorflow/lib/python3.10/site-packages (from IPython->import-ipynb) (0.1.3)\n",
      "Requirement already satisfied: stack-data in /Users/sb/miniforge3/envs/tensorflow/lib/python3.10/site-packages (from IPython->import-ipynb) (0.6.2)\n",
      "Requirement already satisfied: jedi>=0.16 in /Users/sb/miniforge3/envs/tensorflow/lib/python3.10/site-packages (from IPython->import-ipynb) (0.18.2)\n",
      "Requirement already satisfied: traitlets>=5 in /Users/sb/miniforge3/envs/tensorflow/lib/python3.10/site-packages (from IPython->import-ipynb) (5.9.0)\n",
      "Requirement already satisfied: pexpect>4.3 in /Users/sb/miniforge3/envs/tensorflow/lib/python3.10/site-packages (from IPython->import-ipynb) (4.8.0)\n",
      "Requirement already satisfied: pygments>=2.4.0 in /Users/sb/miniforge3/envs/tensorflow/lib/python3.10/site-packages (from IPython->import-ipynb) (2.14.0)\n",
      "Requirement already satisfied: backcall in /Users/sb/miniforge3/envs/tensorflow/lib/python3.10/site-packages (from IPython->import-ipynb) (0.2.0)\n",
      "Requirement already satisfied: pickleshare in /Users/sb/miniforge3/envs/tensorflow/lib/python3.10/site-packages (from IPython->import-ipynb) (0.7.5)\n",
      "Requirement already satisfied: jsonschema>=2.6 in /Users/sb/miniforge3/envs/tensorflow/lib/python3.10/site-packages (from nbformat->import-ipynb) (4.17.3)\n",
      "Requirement already satisfied: jupyter-core in /Users/sb/miniforge3/envs/tensorflow/lib/python3.10/site-packages (from nbformat->import-ipynb) (5.3.0)\n",
      "Requirement already satisfied: fastjsonschema in /Users/sb/miniforge3/envs/tensorflow/lib/python3.10/site-packages (from nbformat->import-ipynb) (2.16.3)\n",
      "Requirement already satisfied: parso<0.9.0,>=0.8.0 in /Users/sb/miniforge3/envs/tensorflow/lib/python3.10/site-packages (from jedi>=0.16->IPython->import-ipynb) (0.8.3)\n",
      "Requirement already satisfied: pyrsistent!=0.17.0,!=0.17.1,!=0.17.2,>=0.14.0 in /Users/sb/miniforge3/envs/tensorflow/lib/python3.10/site-packages (from jsonschema>=2.6->nbformat->import-ipynb) (0.19.3)\n",
      "Requirement already satisfied: attrs>=17.4.0 in /Users/sb/miniforge3/envs/tensorflow/lib/python3.10/site-packages (from jsonschema>=2.6->nbformat->import-ipynb) (22.2.0)\n",
      "Requirement already satisfied: ptyprocess>=0.5 in /Users/sb/miniforge3/envs/tensorflow/lib/python3.10/site-packages (from pexpect>4.3->IPython->import-ipynb) (0.7.0)\n",
      "Requirement already satisfied: wcwidth in /Users/sb/miniforge3/envs/tensorflow/lib/python3.10/site-packages (from prompt-toolkit!=3.0.37,<3.1.0,>=3.0.30->IPython->import-ipynb) (0.2.6)\n",
      "Requirement already satisfied: platformdirs>=2.5 in /Users/sb/miniforge3/envs/tensorflow/lib/python3.10/site-packages (from jupyter-core->nbformat->import-ipynb) (3.1.1)\n",
      "Requirement already satisfied: asttokens>=2.1.0 in /Users/sb/miniforge3/envs/tensorflow/lib/python3.10/site-packages (from stack-data->IPython->import-ipynb) (2.2.1)\n",
      "Requirement already satisfied: pure-eval in /Users/sb/miniforge3/envs/tensorflow/lib/python3.10/site-packages (from stack-data->IPython->import-ipynb) (0.2.2)\n",
      "Requirement already satisfied: executing>=1.2.0 in /Users/sb/miniforge3/envs/tensorflow/lib/python3.10/site-packages (from stack-data->IPython->import-ipynb) (1.2.0)\n",
      "Requirement already satisfied: six in /Users/sb/miniforge3/envs/tensorflow/lib/python3.10/site-packages (from asttokens>=2.1.0->stack-data->IPython->import-ipynb) (1.16.0)\n",
      "Installing collected packages: import-ipynb\n",
      "Successfully installed import-ipynb-0.1.4\n",
      "Note: you may need to restart the kernel to use updated packages.\n"
     ]
    }
   ],
   "source": [
    "pip install import-ipynb"
   ]
  },
  {
   "cell_type": "code",
   "execution_count": 6,
   "metadata": {},
   "outputs": [
    {
     "name": "stdout",
     "output_type": "stream",
     "text": [
      "importing Jupyter notebook from Preprocessing.ipynb\n"
     ]
    }
   ],
   "source": [
    "import os\n",
    "import music21 as m21\n",
    "import json\n",
    "import tensorflow as tf\n",
    "import keras\n",
    "import numpy as np\n",
    "# from main import LENGTH, DICT_PATH\n",
    "import import_ipynb\n",
    "# from ipynb.fs.full.Preprocessing import training_sequence, LENGTH\n",
    "from Preprocessing import training_sequence, LENGTH, DICT_PATH"
   ]
  },
  {
   "cell_type": "code",
   "execution_count": null,
   "metadata": {},
   "outputs": [],
   "source": []
  },
  {
   "cell_type": "code",
   "execution_count": 11,
   "metadata": {},
   "outputs": [],
   "source": [
    "class MelodyGenerator:\n",
    "\n",
    "    # \"misc/Network_model.h5\"\n",
    "    def __init__(self, model_path=\"NetworkModel.h5\"):\n",
    "    # def __init__(self, model_path=\"misc/Network_model.h5\"):\n",
    "\n",
    "        self.model_path = model_path\n",
    "        self.model = keras.models.load_model(model_path)\n",
    "\n",
    "        with open(DICT_PATH, \"r\") as fp:\n",
    "            self._mappings = json.load(fp)\n",
    "\n",
    "        self._start_symbols = [\"/\"] * LENGTH\n",
    "\n",
    "\n",
    "    def generateMelody(self, seed, num_steps, max_sequence_length, temperature):\n",
    "\n",
    "        # create seed with start symbols\n",
    "        seed = seed.split()\n",
    "        melody = seed\n",
    "        seed = self._start_symbols + seed\n",
    "\n",
    "        # map seed to int\n",
    "        seed = [self._mappings[symbol] for symbol in seed]\n",
    "\n",
    "        for _ in range(num_steps):\n",
    "\n",
    "            # limit the seed to max_sequence_length\n",
    "            seed = seed[-max_sequence_length:]\n",
    "\n",
    "            # one-hot encode the seed\n",
    "            onehot_seed = keras.utils.to_categorical(seed, num_classes=len(self._mappings))\n",
    "            # (1, max_sequence_length, num of symbols in the vocabulary)\n",
    "            onehot_seed = onehot_seed[np.newaxis, ...]\n",
    "\n",
    "            # make a prediction\n",
    "            probabilities = self.model.predict(onehot_seed)[0]\n",
    "            # [0.1, 0.2, 0.1, 0.6] -> 1\n",
    "            output_int = self._sample_with_temperature(probabilities, temperature)\n",
    "\n",
    "            # update seed\n",
    "            seed.append(output_int)\n",
    "\n",
    "            # map int to our encoding\n",
    "            output_symbol = [k for k, v in self._mappings.items() if v == output_int][0]\n",
    "\n",
    "            # check whether we're at the end of a melody\n",
    "            if output_symbol == \"/\":\n",
    "                break\n",
    "\n",
    "            # update melody\n",
    "            melody.append(output_symbol)\n",
    "\n",
    "        return melody\n",
    "\n",
    "\n",
    "    def _sample_with_temperature(self, probabilites, temperature):\n",
    "\n",
    "        predictions = np.log(probabilites) / temperature\n",
    "        probabilites = np.exp(predictions) / np.sum(np.exp(predictions))\n",
    "\n",
    "        # print(probabilites.flatten())\n",
    "\n",
    "        choices = range(len(probabilites)) # [0, 1, 2, 3]\n",
    "        # index = np.random.choice(choices, p=probabilites)\n",
    "        index = np.random.choice(choices, p=probabilites.flatten())\n",
    "\n",
    "        return index\n",
    "    \n",
    "    def saveMelody(self,melody, step_duration=0.25, format=\"midi\", file_name=\"melody_1_something.mid\"): # \"melody_1.mid\"\n",
    "        # step_duration is the amount of duration in quarter note length that we have at each step in out time series representation.\n",
    "\n",
    "        # create a stream\n",
    "        stream = m21.stream.Stream()\n",
    "\n",
    "        # Pasring through all the symbols in melody and creating note/rest objects\n",
    "\n",
    "        start_symbol = None\n",
    "        counter = 1\n",
    "    \n",
    "        for i, symbol in enumerate(melody):\n",
    "\n",
    "            if symbol != \"_\" or i + 1 == len(melody):\n",
    "            # Make sure that the first event is not being dealt\n",
    "                if start_symbol is not None:\n",
    "\n",
    "                    quarter_length_duration = step_duration * counter\n",
    "\n",
    "                    if start_symbol == \"r\":\n",
    "                        event = m21.note.Rest(quarterLength=quarter_length_duration)\n",
    "                    else:\n",
    "                        event = m21.note.Note(int(start_symbol), quarterLength=quarter_length_duration)\n",
    "                \n",
    "                    stream.append(event)\n",
    "                    # rest counter\n",
    "                    counter = 1\n",
    "\n",
    "                start_symbol = symbol\n",
    "\n",
    "            else:\n",
    "                counter += 1\n",
    "                \n",
    "    \n",
    "        stream.write(format, file_name)"
   ]
  },
  {
   "cell_type": "code",
   "execution_count": 12,
   "metadata": {},
   "outputs": [
    {
     "name": "stderr",
     "output_type": "stream",
     "text": [
      "2023-03-20 08:46:12.139620: I tensorflow/core/grappler/optimizers/custom_graph_optimizer_registry.cc:114] Plugin optimizer for device_type GPU is enabled.\n",
      "2023-03-20 08:46:12.178563: I tensorflow/core/grappler/optimizers/custom_graph_optimizer_registry.cc:114] Plugin optimizer for device_type GPU is enabled.\n"
     ]
    },
    {
     "name": "stdout",
     "output_type": "stream",
     "text": [
      "1/1 [==============================] - 1s 790ms/step\n",
      "1/1 [==============================] - 0s 13ms/step\n",
      "['64', '_', '69', '_', '_', '_', '71', '_', '72', '_', '_', '71', '51']\n"
     ]
    }
   ],
   "source": [
    "seed = \"64 _ 69 _ _ _ 71 _ 72 _ _ 71 \"\n",
    "g = MelodyGenerator()\n",
    "melody = g.generateMelody(seed, 500, LENGTH, 0.8)\n",
    "\n",
    "print(melody)\n",
    "g.saveMelody(melody)"
   ]
  },
  {
   "cell_type": "code",
   "execution_count": null,
   "metadata": {},
   "outputs": [
    {
     "name": "stdout",
     "output_type": "stream",
     "text": [
      "1/1 [==============================] - 0s 267ms/step\n",
      "1/1 [==============================] - 0s 19ms/step\n",
      "1/1 [==============================] - 0s 17ms/step\n"
     ]
    },
    {
     "name": "stderr",
     "output_type": "stream",
     "text": [
      "2023-03-04 10:04:25.903454: I tensorflow/core/grappler/optimizers/custom_graph_optimizer_registry.cc:114] Plugin optimizer for device_type GPU is enabled.\n",
      "2023-03-04 10:04:25.952157: I tensorflow/core/grappler/optimizers/custom_graph_optimizer_registry.cc:114] Plugin optimizer for device_type GPU is enabled.\n"
     ]
    },
    {
     "name": "stdout",
     "output_type": "stream",
     "text": [
      "1/1 [==============================] - 0s 17ms/step\n",
      "['64', '_', '69', '_', '_', '_', '71', '_', '72', '_', '_', '71', '51', '57', '51']\n"
     ]
    }
   ],
   "source": [
    "seed = \"64 _ 69 _ _ _ 71 _ 72 _ _ 71 \"\n",
    "g = MelodyGenerator()\n",
    "melody = g.generateMelody(seed, 500, LENGTH, 0.8)\n",
    "\n",
    "print(melody)\n",
    "g.saveMelody(melody)"
   ]
  },
  {
   "cell_type": "code",
   "execution_count": 10,
   "metadata": {},
   "outputs": [
    {
     "name": "stdout",
     "output_type": "stream",
     "text": [
      "1/1 [==============================] - 1s 551ms/step\n"
     ]
    },
    {
     "name": "stderr",
     "output_type": "stream",
     "text": [
      "2023-03-20 08:41:00.094766: I tensorflow/core/grappler/optimizers/custom_graph_optimizer_registry.cc:114] Plugin optimizer for device_type GPU is enabled.\n",
      "2023-03-20 08:41:00.185842: I tensorflow/core/grappler/optimizers/custom_graph_optimizer_registry.cc:114] Plugin optimizer for device_type GPU is enabled.\n",
      "2023-03-20 08:41:00.197228: I tensorflow/core/grappler/optimizers/custom_graph_optimizer_registry.cc:114] Plugin optimizer for device_type GPU is enabled.\n",
      "2023-03-20 08:41:00.241872: I tensorflow/core/grappler/optimizers/custom_graph_optimizer_registry.cc:114] Plugin optimizer for device_type GPU is enabled.\n"
     ]
    },
    {
     "name": "stdout",
     "output_type": "stream",
     "text": [
      "1/1 [==============================] - 0s 28ms/step\n",
      "1/1 [==============================] - 0s 25ms/step\n"
     ]
    },
    {
     "ename": "IndexError",
     "evalue": "list index out of range",
     "output_type": "error",
     "traceback": [
      "\u001b[0;31m---------------------------------------------------------------------------\u001b[0m",
      "\u001b[0;31mIndexError\u001b[0m                                Traceback (most recent call last)",
      "Cell \u001b[0;32mIn[10], line 3\u001b[0m\n\u001b[1;32m      1\u001b[0m seed \u001b[39m=\u001b[39m \u001b[39m\"\u001b[39m\u001b[39m64 _ 69 _ _ _ 71 _ 72 _ _ 71 \u001b[39m\u001b[39m\"\u001b[39m\n\u001b[1;32m      2\u001b[0m g \u001b[39m=\u001b[39m MelodyGenerator()\n\u001b[0;32m----> 3\u001b[0m melody \u001b[39m=\u001b[39m g\u001b[39m.\u001b[39;49mgenerateMelody(seed, \u001b[39m500\u001b[39;49m, LENGTH, \u001b[39m0.8\u001b[39;49m)\n\u001b[1;32m      5\u001b[0m \u001b[39mprint\u001b[39m(melody)\n\u001b[1;32m      6\u001b[0m g\u001b[39m.\u001b[39msaveMelody(melody)\n",
      "Cell \u001b[0;32mIn[7], line 45\u001b[0m, in \u001b[0;36mMelodyGenerator.generateMelody\u001b[0;34m(self, seed, num_steps, max_sequence_length, temperature)\u001b[0m\n\u001b[1;32m     42\u001b[0m seed\u001b[39m.\u001b[39mappend(output_int)\n\u001b[1;32m     44\u001b[0m \u001b[39m# map int to our encoding\u001b[39;00m\n\u001b[0;32m---> 45\u001b[0m output_symbol \u001b[39m=\u001b[39m [k \u001b[39mfor\u001b[39;49;00m k, v \u001b[39min\u001b[39;49;00m \u001b[39mself\u001b[39;49m\u001b[39m.\u001b[39;49m_mappings\u001b[39m.\u001b[39;49mitems() \u001b[39mif\u001b[39;49;00m v \u001b[39m==\u001b[39;49m output_int][\u001b[39m0\u001b[39;49m]\n\u001b[1;32m     47\u001b[0m \u001b[39m# check whether we're at the end of a melody\u001b[39;00m\n\u001b[1;32m     48\u001b[0m \u001b[39mif\u001b[39;00m output_symbol \u001b[39m==\u001b[39m \u001b[39m\"\u001b[39m\u001b[39m/\u001b[39m\u001b[39m\"\u001b[39m:\n",
      "\u001b[0;31mIndexError\u001b[0m: list index out of range"
     ]
    }
   ],
   "source": [
    "seed = \"64 _ 69 _ _ _ 71 _ 72 _ _ 71 \"\n",
    "g = MelodyGenerator()\n",
    "melody = g.generateMelody(seed, 500, LENGTH, 0.8)\n",
    "\n",
    "print(melody)\n",
    "g.saveMelody(melody)"
   ]
  },
  {
   "cell_type": "code",
   "execution_count": null,
   "metadata": {},
   "outputs": [
    {
     "name": "stdout",
     "output_type": "stream",
     "text": [
      "1/1 [==============================] - 0s 276ms/step\n"
     ]
    },
    {
     "name": "stderr",
     "output_type": "stream",
     "text": [
      "2023-03-03 09:53:53.390563: I tensorflow/core/grappler/optimizers/custom_graph_optimizer_registry.cc:114] Plugin optimizer for device_type GPU is enabled.\n",
      "2023-03-03 09:53:53.438374: I tensorflow/core/grappler/optimizers/custom_graph_optimizer_registry.cc:114] Plugin optimizer for device_type GPU is enabled.\n"
     ]
    },
    {
     "name": "stdout",
     "output_type": "stream",
     "text": [
      "None\n",
      "1/1 [==============================] - 0s 267ms/step\n"
     ]
    },
    {
     "name": "stderr",
     "output_type": "stream",
     "text": [
      "2023-03-03 09:53:53.692855: I tensorflow/core/grappler/optimizers/custom_graph_optimizer_registry.cc:114] Plugin optimizer for device_type GPU is enabled.\n",
      "2023-03-03 09:53:53.741336: I tensorflow/core/grappler/optimizers/custom_graph_optimizer_registry.cc:114] Plugin optimizer for device_type GPU is enabled.\n"
     ]
    },
    {
     "name": "stdout",
     "output_type": "stream",
     "text": [
      "None\n",
      "1/1 [==============================] - 1s 520ms/step\n"
     ]
    },
    {
     "name": "stderr",
     "output_type": "stream",
     "text": [
      "2023-03-03 09:53:54.254727: I tensorflow/core/grappler/optimizers/custom_graph_optimizer_registry.cc:114] Plugin optimizer for device_type GPU is enabled.\n",
      "2023-03-03 09:53:54.303090: I tensorflow/core/grappler/optimizers/custom_graph_optimizer_registry.cc:114] Plugin optimizer for device_type GPU is enabled.\n"
     ]
    },
    {
     "name": "stdout",
     "output_type": "stream",
     "text": [
      "None\n",
      "1/1 [==============================] - 0s 269ms/step\n"
     ]
    },
    {
     "name": "stderr",
     "output_type": "stream",
     "text": [
      "2023-03-03 09:53:54.554599: I tensorflow/core/grappler/optimizers/custom_graph_optimizer_registry.cc:114] Plugin optimizer for device_type GPU is enabled.\n",
      "2023-03-03 09:53:54.604271: I tensorflow/core/grappler/optimizers/custom_graph_optimizer_registry.cc:114] Plugin optimizer for device_type GPU is enabled.\n"
     ]
    },
    {
     "name": "stdout",
     "output_type": "stream",
     "text": [
      "None\n",
      "1/1 [==============================] - 0s 271ms/step\n"
     ]
    },
    {
     "name": "stderr",
     "output_type": "stream",
     "text": [
      "2023-03-03 09:53:54.856906: I tensorflow/core/grappler/optimizers/custom_graph_optimizer_registry.cc:114] Plugin optimizer for device_type GPU is enabled.\n",
      "2023-03-03 09:53:54.908647: I tensorflow/core/grappler/optimizers/custom_graph_optimizer_registry.cc:114] Plugin optimizer for device_type GPU is enabled.\n"
     ]
    },
    {
     "name": "stdout",
     "output_type": "stream",
     "text": [
      "None\n",
      "1/1 [==============================] - 0s 261ms/step\n"
     ]
    },
    {
     "name": "stderr",
     "output_type": "stream",
     "text": [
      "2023-03-03 09:53:55.157302: I tensorflow/core/grappler/optimizers/custom_graph_optimizer_registry.cc:114] Plugin optimizer for device_type GPU is enabled.\n",
      "2023-03-03 09:53:55.206996: I tensorflow/core/grappler/optimizers/custom_graph_optimizer_registry.cc:114] Plugin optimizer for device_type GPU is enabled.\n"
     ]
    },
    {
     "name": "stdout",
     "output_type": "stream",
     "text": [
      "None\n",
      "1/1 [==============================] - 0s 265ms/step\n"
     ]
    },
    {
     "name": "stderr",
     "output_type": "stream",
     "text": [
      "2023-03-03 09:53:55.453419: I tensorflow/core/grappler/optimizers/custom_graph_optimizer_registry.cc:114] Plugin optimizer for device_type GPU is enabled.\n",
      "2023-03-03 09:53:55.502243: I tensorflow/core/grappler/optimizers/custom_graph_optimizer_registry.cc:114] Plugin optimizer for device_type GPU is enabled.\n"
     ]
    },
    {
     "name": "stdout",
     "output_type": "stream",
     "text": [
      "None\n",
      "1/1 [==============================] - 0s 260ms/step\n"
     ]
    },
    {
     "name": "stderr",
     "output_type": "stream",
     "text": [
      "2023-03-03 09:53:55.754683: I tensorflow/core/grappler/optimizers/custom_graph_optimizer_registry.cc:114] Plugin optimizer for device_type GPU is enabled.\n",
      "2023-03-03 09:53:55.801219: I tensorflow/core/grappler/optimizers/custom_graph_optimizer_registry.cc:114] Plugin optimizer for device_type GPU is enabled.\n"
     ]
    },
    {
     "name": "stdout",
     "output_type": "stream",
     "text": [
      "None\n",
      "1/1 [==============================] - 0s 258ms/step\n"
     ]
    },
    {
     "name": "stderr",
     "output_type": "stream",
     "text": [
      "2023-03-03 09:53:56.047974: I tensorflow/core/grappler/optimizers/custom_graph_optimizer_registry.cc:114] Plugin optimizer for device_type GPU is enabled.\n",
      "2023-03-03 09:53:56.095261: I tensorflow/core/grappler/optimizers/custom_graph_optimizer_registry.cc:114] Plugin optimizer for device_type GPU is enabled.\n"
     ]
    },
    {
     "name": "stdout",
     "output_type": "stream",
     "text": [
      "None\n",
      "1/1 [==============================] - 0s 257ms/step\n"
     ]
    },
    {
     "name": "stderr",
     "output_type": "stream",
     "text": [
      "2023-03-03 09:53:56.339226: I tensorflow/core/grappler/optimizers/custom_graph_optimizer_registry.cc:114] Plugin optimizer for device_type GPU is enabled.\n",
      "2023-03-03 09:53:56.386634: I tensorflow/core/grappler/optimizers/custom_graph_optimizer_registry.cc:114] Plugin optimizer for device_type GPU is enabled.\n"
     ]
    },
    {
     "name": "stdout",
     "output_type": "stream",
     "text": [
      "None\n",
      "1/1 [==============================] - 0s 261ms/step\n"
     ]
    },
    {
     "name": "stderr",
     "output_type": "stream",
     "text": [
      "2023-03-03 09:53:56.631440: I tensorflow/core/grappler/optimizers/custom_graph_optimizer_registry.cc:114] Plugin optimizer for device_type GPU is enabled.\n",
      "2023-03-03 09:53:56.678170: I tensorflow/core/grappler/optimizers/custom_graph_optimizer_registry.cc:114] Plugin optimizer for device_type GPU is enabled.\n"
     ]
    },
    {
     "name": "stdout",
     "output_type": "stream",
     "text": [
      "None\n",
      "1/1 [==============================] - 0s 389ms/step\n"
     ]
    },
    {
     "name": "stderr",
     "output_type": "stream",
     "text": [
      "2023-03-03 09:53:57.053591: I tensorflow/core/grappler/optimizers/custom_graph_optimizer_registry.cc:114] Plugin optimizer for device_type GPU is enabled.\n",
      "2023-03-03 09:53:57.100350: I tensorflow/core/grappler/optimizers/custom_graph_optimizer_registry.cc:114] Plugin optimizer for device_type GPU is enabled.\n"
     ]
    },
    {
     "name": "stdout",
     "output_type": "stream",
     "text": [
      "None\n",
      "1/1 [==============================] - 0s 266ms/step\n"
     ]
    },
    {
     "name": "stderr",
     "output_type": "stream",
     "text": [
      "2023-03-03 09:53:57.355047: I tensorflow/core/grappler/optimizers/custom_graph_optimizer_registry.cc:114] Plugin optimizer for device_type GPU is enabled.\n",
      "2023-03-03 09:53:57.402122: I tensorflow/core/grappler/optimizers/custom_graph_optimizer_registry.cc:114] Plugin optimizer for device_type GPU is enabled.\n"
     ]
    },
    {
     "name": "stdout",
     "output_type": "stream",
     "text": [
      "None\n",
      "1/1 [==============================] - 0s 264ms/step\n"
     ]
    },
    {
     "name": "stderr",
     "output_type": "stream",
     "text": [
      "2023-03-03 09:53:57.650045: I tensorflow/core/grappler/optimizers/custom_graph_optimizer_registry.cc:114] Plugin optimizer for device_type GPU is enabled.\n",
      "2023-03-03 09:53:57.696062: I tensorflow/core/grappler/optimizers/custom_graph_optimizer_registry.cc:114] Plugin optimizer for device_type GPU is enabled.\n"
     ]
    },
    {
     "name": "stdout",
     "output_type": "stream",
     "text": [
      "None\n",
      "1/1 [==============================] - 0s 269ms/step\n"
     ]
    },
    {
     "name": "stderr",
     "output_type": "stream",
     "text": [
      "2023-03-03 09:53:57.960529: I tensorflow/core/grappler/optimizers/custom_graph_optimizer_registry.cc:114] Plugin optimizer for device_type GPU is enabled.\n",
      "2023-03-03 09:53:58.007273: I tensorflow/core/grappler/optimizers/custom_graph_optimizer_registry.cc:114] Plugin optimizer for device_type GPU is enabled.\n"
     ]
    },
    {
     "name": "stdout",
     "output_type": "stream",
     "text": [
      "None\n",
      "1/1 [==============================] - 0s 263ms/step\n"
     ]
    },
    {
     "name": "stderr",
     "output_type": "stream",
     "text": [
      "2023-03-03 09:53:58.261523: I tensorflow/core/grappler/optimizers/custom_graph_optimizer_registry.cc:114] Plugin optimizer for device_type GPU is enabled.\n",
      "2023-03-03 09:53:58.308974: I tensorflow/core/grappler/optimizers/custom_graph_optimizer_registry.cc:114] Plugin optimizer for device_type GPU is enabled.\n"
     ]
    },
    {
     "name": "stdout",
     "output_type": "stream",
     "text": [
      "None\n",
      "1/1 [==============================] - 0s 259ms/step\n"
     ]
    },
    {
     "name": "stderr",
     "output_type": "stream",
     "text": [
      "2023-03-03 09:53:58.565435: I tensorflow/core/grappler/optimizers/custom_graph_optimizer_registry.cc:114] Plugin optimizer for device_type GPU is enabled.\n",
      "2023-03-03 09:53:58.612665: I tensorflow/core/grappler/optimizers/custom_graph_optimizer_registry.cc:114] Plugin optimizer for device_type GPU is enabled.\n"
     ]
    },
    {
     "name": "stdout",
     "output_type": "stream",
     "text": [
      "None\n",
      "1/1 [==============================] - 0s 265ms/step\n"
     ]
    },
    {
     "name": "stderr",
     "output_type": "stream",
     "text": [
      "2023-03-03 09:53:58.862802: I tensorflow/core/grappler/optimizers/custom_graph_optimizer_registry.cc:114] Plugin optimizer for device_type GPU is enabled.\n",
      "2023-03-03 09:53:58.910557: I tensorflow/core/grappler/optimizers/custom_graph_optimizer_registry.cc:114] Plugin optimizer for device_type GPU is enabled.\n"
     ]
    },
    {
     "name": "stdout",
     "output_type": "stream",
     "text": [
      "None\n",
      "1/1 [==============================] - 0s 261ms/step\n"
     ]
    },
    {
     "name": "stderr",
     "output_type": "stream",
     "text": [
      "2023-03-03 09:53:59.157881: I tensorflow/core/grappler/optimizers/custom_graph_optimizer_registry.cc:114] Plugin optimizer for device_type GPU is enabled.\n",
      "2023-03-03 09:53:59.205052: I tensorflow/core/grappler/optimizers/custom_graph_optimizer_registry.cc:114] Plugin optimizer for device_type GPU is enabled.\n"
     ]
    },
    {
     "name": "stdout",
     "output_type": "stream",
     "text": [
      "None\n",
      "1/1 [==============================] - 0s 265ms/step\n"
     ]
    },
    {
     "name": "stderr",
     "output_type": "stream",
     "text": [
      "2023-03-03 09:53:59.452902: I tensorflow/core/grappler/optimizers/custom_graph_optimizer_registry.cc:114] Plugin optimizer for device_type GPU is enabled.\n",
      "2023-03-03 09:53:59.499966: I tensorflow/core/grappler/optimizers/custom_graph_optimizer_registry.cc:114] Plugin optimizer for device_type GPU is enabled.\n"
     ]
    },
    {
     "name": "stdout",
     "output_type": "stream",
     "text": [
      "None\n",
      "1/1 [==============================] - 0s 266ms/step\n",
      "None\n",
      "['64', '_', '69', '_', '_', '_', '71', '_', '72', '_', '_', '71', '51', '57', '59', '78', '55', '51', '59', '59', '55', '76', '55', '78', '59', '57', '51', '62', '59', '57', '57', '78']\n"
     ]
    },
    {
     "name": "stderr",
     "output_type": "stream",
     "text": [
      "2023-03-03 09:53:59.750833: I tensorflow/core/grappler/optimizers/custom_graph_optimizer_registry.cc:114] Plugin optimizer for device_type GPU is enabled.\n",
      "2023-03-03 09:53:59.798380: I tensorflow/core/grappler/optimizers/custom_graph_optimizer_registry.cc:114] Plugin optimizer for device_type GPU is enabled.\n"
     ]
    }
   ],
   "source": [
    "seed = \"64 _ 69 _ _ _ 71 _ 72 _ _ 71 \"\n",
    "g = MelodyGenerator()\n",
    "melody = g.generateMelody(seed, 500, LENGTH, 0.8)\n",
    "\n",
    "print(melody)\n",
    "g.saveMelody(melody)"
   ]
  }
 ],
 "metadata": {
  "kernelspec": {
   "display_name": "Python 3.8.16",
   "language": "python",
   "name": "python3"
  },
  "language_info": {
   "codemirror_mode": {
    "name": "ipython",
    "version": 3
   },
   "file_extension": ".py",
   "mimetype": "text/x-python",
   "name": "python",
   "nbconvert_exporter": "python",
   "pygments_lexer": "ipython3",
   "version": "3.10.9"
  },
  "orig_nbformat": 4,
  "vscode": {
   "interpreter": {
    "hash": "27ec4398efe5f1e0762e95a3ab8e2cbf2dfb129f4bce910de35277a628037a44"
   }
  }
 },
 "nbformat": 4,
 "nbformat_minor": 2
}
