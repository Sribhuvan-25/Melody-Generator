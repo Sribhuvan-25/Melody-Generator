{
 "cells": [
  {
   "cell_type": "code",
   "execution_count": 8,
   "metadata": {},
   "outputs": [],
   "source": [
    "import os\n",
    "import music21 as m21\n",
    "import json\n",
    "import tensorflow as tf\n",
    "import keras\n",
    "import numpy as np"
   ]
  },
  {
   "cell_type": "code",
   "execution_count": 9,
   "metadata": {},
   "outputs": [],
   "source": [
    "from main import LENGTH, DICT_PATH"
   ]
  },
  {
   "cell_type": "code",
   "execution_count": 10,
   "metadata": {},
   "outputs": [
    {
     "name": "stdout",
     "output_type": "stream",
     "text": [
      "1/1 [==============================] - 0s 350ms/step\n",
      "['64', '_', '69', '_', '_', '_', '71', '_', '72', '_']\n"
     ]
    },
    {
     "name": "stderr",
     "output_type": "stream",
     "text": [
      "2023-02-08 23:33:41.342686: I tensorflow/core/grappler/optimizers/custom_graph_optimizer_registry.cc:114] Plugin optimizer for device_type GPU is enabled.\n",
      "2023-02-08 23:33:41.411916: I tensorflow/core/grappler/optimizers/custom_graph_optimizer_registry.cc:114] Plugin optimizer for device_type GPU is enabled.\n"
     ]
    }
   ],
   "source": [
    "class MelodyGenerator:\n",
    "    def __init__(self, model_path=\"Network_model.h5\"):\n",
    "        \n",
    "        self.model_path = model_path\n",
    "        self.model = keras.models.load_model(model_path)\n",
    "\n",
    "        with open(DICT_PATH, \"r\") as fp:\n",
    "            self._mappings = json.load(fp)\n",
    "    \n",
    "        self._symbols = [\"/\"] * LENGTH\n",
    "\n",
    "# Pieace of melody is a seed, which is given to the network form which network generates melody\n",
    "# max_sequence_length is the max length of the seed, which equals to the sequence length (in this case 64)\n",
    "# temp (Temperature) is a float values that influences how we sample output symbols from the probability distribution\n",
    "\n",
    "    def generateMelody(self,seed, num_steps, max_sequence_length, temp):\n",
    "\n",
    "        # Starting seed start symbols\n",
    "        seed = seed.split()\n",
    "        melody = seed\n",
    "        seed = self._symbols + seed\n",
    "\n",
    "        # Map seed\n",
    "        seed = [self._mappings[symbol] for symbol in seed]\n",
    "\n",
    "        for _ in range(num_steps):\n",
    "        \n",
    "            # Making sure that seed length is within acceptable to length\n",
    "            seed = seed[-max_sequence_length:]\n",
    "\n",
    "            # One Hot Encoding\n",
    "            seed_oneHot = keras.utils.to_categorical(seed, num_classes=len(self._mappings))\n",
    "            # Example output -> (max_seqeunce_length, #symbols in the vocab (dict)) but the there should be a third dimension for keras to predict\n",
    "            seed_oneHot = seed_oneHot[np.newaxis, ...]\n",
    "\n",
    "            # Predicting\n",
    "            probability_distribution = self.model.predict(seed_oneHot)[0]\n",
    "            ouput = self._sample_with_temp(probability_distribution, temp)\n",
    "\n",
    "            # Update seed (the output is added back as an input)\n",
    "            seed.append(ouput)\n",
    "\n",
    "            # Mapping values based off the encoding\n",
    "            output_symbol = [key for key, value in self._mappings.items() if value == ouput][0]\n",
    "\n",
    "            # Checking if the melody has ended\n",
    "            if output_symbol == \"/\":\n",
    "                break\n",
    "        \n",
    "            # update melody\n",
    "            melody.append(output_symbol)\n",
    "\n",
    "        return melody\n",
    "\n",
    "    def _sample_with_temp(self, probability_distribution, temp):\n",
    "\n",
    "        # temp -> infinity i.e. all of the probailities would be the same and it would basically mean picking one out randomly\n",
    "        # temp -> 0 i.e. the one with highest probability has probability of 1 now\n",
    "        # temp = 1 i.e. nothing changes here\n",
    "        # Higher the values of temp, more predictble would be the sampling\n",
    "\n",
    "        predictions = np.log(probability_distribution) / temp\n",
    "        # Applying softmax function for having a more homogenous distribution\n",
    "        probability_distribution = np.exp(predictions) / np.sum(np.exp(predictions))\n",
    "\n",
    "        # Sampling out a value from the remodelled distribution\n",
    "        choices = range(len(probability_distribution))\n",
    "        index = np.random.choice(choices, p=probability_distribution)\n",
    "\n",
    "        return index\n",
    "\n",
    "\n",
    "seed = \"64 _ 69 _ _ _ 71 _ 72 _\"\n",
    "g = MelodyGenerator()\n",
    "melody = g.generateMelody(seed, 500, LENGTH, 0.7)\n",
    "print(melody)\n",
    "\n",
    "    \n"
   ]
  }
 ],
 "metadata": {
  "kernelspec": {
   "display_name": "Python 3.8.16",
   "language": "python",
   "name": "python3"
  },
  "language_info": {
   "codemirror_mode": {
    "name": "ipython",
    "version": 3
   },
   "file_extension": ".py",
   "mimetype": "text/x-python",
   "name": "python",
   "nbconvert_exporter": "python",
   "pygments_lexer": "ipython3",
   "version": "3.8.16"
  },
  "orig_nbformat": 4,
  "vscode": {
   "interpreter": {
    "hash": "27ec4398efe5f1e0762e95a3ab8e2cbf2dfb129f4bce910de35277a628037a44"
   }
  }
 },
 "nbformat": 4,
 "nbformat_minor": 2
}
