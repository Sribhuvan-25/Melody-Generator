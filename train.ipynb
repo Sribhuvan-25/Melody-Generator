{
 "cells": [
  {
   "cell_type": "code",
   "execution_count": 10,
   "metadata": {},
   "outputs": [],
   "source": [
    "import numpy as np\n",
    "import pandas as pd\n",
    "import sklearn\n",
    "import tensorflow as t\n",
    "import matplotlib.pyplot as plt\n",
    "import keras\n",
    "from ipynb.fs.full.Preprocessing import training_sequence, LENGTH"
   ]
  },
  {
   "cell_type": "code",
   "execution_count": 6,
   "metadata": {},
   "outputs": [],
   "source": [
    "OUTPUT_UNITS = 38 # Total number of unique symbols\n",
    "NUM_UNITS = [256] # Number of units in the internal layer and this case there is only one layer\n",
    "LOSS = \"sparse_categorical_crossentropy\" # Loss function\n",
    "LEARNING_RATE = 0.001\n",
    "EPOCHS = 50\n",
    "BATCH_SIZE = 64 # Amount of samples that the network is gonna see before running back propogation\n",
    "SAVE_NETWORK_PATH = \"misc/Network_model.h5\""
   ]
  },
  {
   "cell_type": "code",
   "execution_count": 7,
   "metadata": {},
   "outputs": [],
   "source": [
    "def build_network(output_units, num_units, loss, learning_rate):\n",
    "    \n",
    "    # Model architecture\n",
    "    input_layer = keras.layers.Input(shape=(None, output_units))\n",
    "    x = keras.layers.LSTM(num_units[0])(input_layer)\n",
    "    x = keras.layers.Dropout(0.2)(x)\n",
    "\n",
    "    output_layer = keras.layers.Dense(output_units, activation = \"softmax\")(x)\n",
    "\n",
    "    model = keras.Model(input_layer, output_layer)\n",
    "    \n",
    "    # Compiling Model\n",
    "    model.compile(loss=loss, \n",
    "                optimizer=keras.optimizers.Adam(lr = learning_rate), \n",
    "                metrics=[\"accuracy\"])\n",
    "    model.summary()\n",
    "\n",
    "    return model"
   ]
  },
  {
   "cell_type": "code",
   "execution_count": 9,
   "metadata": {},
   "outputs": [],
   "source": [
    "def train(ouput_units = OUTPUT_UNITS, num_units = NUM_UNITS, loss = LOSS, learning_rate = LEARNING_RATE):\n",
    "     # Generating training sequences\n",
    "     inputs, targets =  training_sequence(LENGTH)\n",
    "\n",
    "     # Neural Network\n",
    "     network = build_network(ouput_units, num_units, loss, learning_rate)\n",
    "\n",
    "     # Training the network\n",
    "     network.fit(inputs, targets, epochs=EPOCHS, batch_size=BATCH_SIZE)\n",
    "\n",
    "     network.save(SAVE_NETWORK_PATH)\n",
    "\n",
    "train()"
   ]
  }
 ],
 "metadata": {
  "kernelspec": {
   "display_name": "Python 3.8.16",
   "language": "python",
   "name": "python3"
  },
  "language_info": {
   "codemirror_mode": {
    "name": "ipython",
    "version": 3
   },
   "file_extension": ".py",
   "mimetype": "text/x-python",
   "name": "python",
   "nbconvert_exporter": "python",
   "pygments_lexer": "ipython3",
   "version": "3.8.16"
  },
  "orig_nbformat": 4,
  "vscode": {
   "interpreter": {
    "hash": "27ec4398efe5f1e0762e95a3ab8e2cbf2dfb129f4bce910de35277a628037a44"
   }
  }
 },
 "nbformat": 4,
 "nbformat_minor": 2
}
